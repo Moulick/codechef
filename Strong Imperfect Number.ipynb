{
 "cells": [
  {
   "cell_type": "code",
   "execution_count": 1,
   "metadata": {
    "collapsed": true
   },
   "outputs": [],
   "source": [
    "\"\"\"\n",
    "Trozan Number is a number that is strong but not a perfect power. A number n is known as a strong number if, for every prime divisor or factor p of n, p2 is also a divisor. In other words, every prime factor appears at least squared.\n",
    "\n",
    "All Trozan numbers are strong. However, not all strong numbers are Trozan numbers: only those that cannot be represented as mk, where m and k are positive integers greater than 1.\n",
    "\n",
    "For a given a N you have to output whether it is a trozan number or not.\n",
    "\n",
    "Input\n",
    "\n",
    "First line of input contains a single integer T (1 ≤ T ≤ 5000), the number of test cases.\n",
    "\n",
    "Each test case contains a line containing the number N (2 ≤ N ≤ 1000000000).\n",
    "\n",
    "Output\n",
    "\n",
    "for each testcase output YES if it is a Trozan Number or NO otherwise.\n",
    "\n",
    "The function should return true, if the number is a Trojan Number. It should return false, otherwise.\n",
    "\n",
    "Note: You are allowed to edit the code as you please. Add / delete headers. Add / delete methods. And so on.. So long as your final code solves the problem with Input and Output as described above. You may submit your own code, without using the template at all.\n",
    "\n",
    "Example\n",
    "\n",
    "Input:\n",
    "3\n",
    "2\n",
    "8\n",
    "108\n",
    "\n",
    "Output:\n",
    "NO\n",
    "NO\n",
    "YES\n",
    "Example (if you use the Solution Template)\n",
    "\n",
    "isTrojan(2) should return false\n",
    "isTrojan(8) should return false\n",
    "isTrojan(108) should return true\n",
    "\n",
    "\n",
    "\n",
    "Created on Fri Nov 17 22:19:50 2017\n",
    "\n",
    "@author: moulick\n",
    "\"\"\"\n",
    "\n",
    "import random\n",
    "from pprint import pprint\n",
    "\n",
    "def primesbelow(n):\n",
    "    # http://stackoverflow.com/questions/2068372/fastest-way-to-list-all-primes-below-n-in-python/3035188#3035188\n",
    "    # \"\"\" Input n>=6, Returns a list of primes, 2 <= p < n \"\"\"\n",
    "    correction = n % 6 > 1\n",
    "    n = {0: n, 1: n - 1, 2: n + 4, 3: n + 3, 4: n + 2, 5: n + 1}[n % 6]\n",
    "    sieve = [True] * (n // 3)\n",
    "    sieve[0] = False\n",
    "    for i in range(int(n ** .5) // 3 + 1):\n",
    "        if sieve[i]:\n",
    "            k = (3 * i + 1) | 1\n",
    "            sieve[k * k // 3::2 * k] = [False] * ((n // 6 - (k * k) // 6 - 1) // k + 1)\n",
    "            sieve[(k * k + 4 * k - 2 * k * (i % 2)) // 3::2 * k] = [False] * (\n",
    "                (n // 6 - (k * k + 4 * k - 2 * k * (i % 2)) // 6 - 1) // k + 1)\n",
    "    return [2, 3] + [(3 * i + 1) | 1 for i in range(1, n // 3 - correction) if sieve[i]]\n",
    "\n",
    "\n",
    "smallprimeset = set(primesbelow(100000))\n",
    "_smallprimeset = 100000\n",
    "\n",
    "\n",
    "def isprime(n, precision=7):\n",
    "    # http://en.wikipedia.org/wiki/Miller-Rabin_primality_test#Algorithm_and_running_time\n",
    "    if n < 1:\n",
    "        raise ValueError(\"Out of bounds, first argument must be > 0\")\n",
    "    elif n <= 3:\n",
    "        return n >= 2\n",
    "    elif n % 2 == 0:\n",
    "        return False\n",
    "    elif n < _smallprimeset:\n",
    "        return n in smallprimeset\n",
    "\n",
    "    d = n - 1\n",
    "    s = 0\n",
    "    while d % 2 == 0:\n",
    "        d //= 2\n",
    "        s += 1\n",
    "\n",
    "    for repeat in range(precision):\n",
    "        a = random.randrange(2, n - 2)\n",
    "        x = pow(a, d, n)\n",
    "\n",
    "        if x == 1 or x == n - 1:\n",
    "            continue\n",
    "\n",
    "        for r in range(s - 1):\n",
    "            x = pow(x, 2, n)\n",
    "            if x == 1:\n",
    "                return False\n",
    "            if x == n - 1:\n",
    "                break\n",
    "        else:\n",
    "            return False\n",
    "\n",
    "    return True\n",
    "\n",
    "\n",
    "# https://comeoncodeon.wordpress.com/2010/09/18/pollard-rho-brent-integer-factorization/\n",
    "def pollard_brent(n):\n",
    "    if n % 2 == 0:\n",
    "        return 2\n",
    "    if n % 3 == 0:\n",
    "        return 3\n",
    "\n",
    "    y, c, m = random.randint(1, n - 1), random.randint(1, n - 1), random.randint(1, n - 1)\n",
    "    g, r, q = 1, 1, 1\n",
    "    while g == 1:\n",
    "        x = y\n",
    "        for i in range(r):\n",
    "            y = (pow(y, 2, n) + c) % n\n",
    "\n",
    "        k = 0\n",
    "        while k < r and g == 1:\n",
    "            ys = y\n",
    "            for i in range(min(m, r - k)):\n",
    "                y = (pow(y, 2, n) + c) % n\n",
    "                q = q * abs(x - y) % n\n",
    "            g = gcd(q, n)\n",
    "            k += m\n",
    "        r *= 2\n",
    "    if g == n:\n",
    "        while True:\n",
    "            ys = (pow(ys, 2, n) + c) % n\n",
    "            g = gcd(abs(x - ys), n)\n",
    "            if g > 1:\n",
    "                break\n",
    "\n",
    "    return g\n",
    "\n",
    "\n",
    "smallprimes = primesbelow(\n",
    "    1000)  # might seem low, but 1000*1000 = 1000000, so this will fully factor every composite < 1000000\n",
    "\n",
    "\n",
    "def primefactors(n, pyenv=False):\n",
    "    factors = []\n",
    "\n",
    "    for checker in smallprimes:\n",
    "        while n % checker == 0:\n",
    "            factors.append(checker)\n",
    "            n //= checker\n",
    "        if checker > n:\n",
    "            break\n",
    "\n",
    "    if n < 2:\n",
    "        return factors\n",
    "\n",
    "    while n > 1:\n",
    "        if isprime(n):\n",
    "            factors.append(n)\n",
    "            break\n",
    "        factor = pollard_brent(n)  # trial division did not fully factor, switch to pollard-brent\n",
    "        factors.extend(\n",
    "            primefactors(factor))  # recurse to factor the not necessarily prime factor returned by pollard-brent\n",
    "        n //= factor\n",
    "\n",
    "    if sort:\n",
    "        factors.sort()\n",
    "\n",
    "    return factors\n",
    "\n",
    "\n",
    "def factorization(n):\n",
    "    factors = {}\n",
    "    for p1 in primefactors(n):\n",
    "        try:\n",
    "            factors[p1] += 1\n",
    "        except KeyError:\n",
    "            factors[p1] = 1\n",
    "    return factors\n",
    "\n",
    "\n",
    "totients = {}\n",
    "\n",
    "\n",
    "def totient(n):\n",
    "    if n == 0:\n",
    "        return 1\n",
    "\n",
    "    try:\n",
    "        return totients[n]\n",
    "    except KeyError:\n",
    "        pass\n",
    "\n",
    "    tot = 1\n",
    "    for p, exp in factorization(n).items():\n",
    "        tot *= (p - 1) * p ** (exp - 1)\n",
    "\n",
    "    totients[n] = tot\n",
    "    return tot\n",
    "\n",
    "\n",
    "def gcd(a, b):\n",
    "    if a == b:\n",
    "        return a\n",
    "    while b > 0:\n",
    "        a, b = b, a % b\n",
    "    return a\n",
    "\n",
    "\n",
    "\n",
    "\n",
    "def lcm(a, b):\n",
    "    return abs((a // gcd(a, b)) * b)"
   ]
  },
  {
   "cell_type": "code",
   "execution_count": 6,
   "metadata": {},
   "outputs": [
    {
     "name": "stdout",
     "output_type": "stream",
     "text": [
      "3.74 ms ± 52.1 µs per loop (mean ± std. dev. of 7 runs, 100 loops each)\n"
     ]
    }
   ],
   "source": [
    "%%timeit\n",
    "primefactors(1220136825991110068701238785423046926253574342803192842192413588385845373153881997605496447502203281863013616477148203584163378722078177200480785205159329285477907571939330603772960859086270429174547882424912726344305670173270769461062802310452644218878789465754777149863494367781037644274033827365397471386477878495438489595537537990423241061271326984327745715546309977202781014561081188373709531016356324432987029563896628911658974769572087926928871281780070265174507768410719624390394322536422605234945850129918571501248706961568141625359056693423813008856249246891564126775654481886506593847951775360894005745238940335798476363944905313062323749066445048824665075946735862074637925184200459369692981022263971952597190945217823331756934581508552332820762820023402626907898342451712006207714640979456116127629145951237229913340169552363850942885592018727433795173014586357570828355780158735432768888680120399882384702151467605445407663535984174430480128938313896881639487469658817504506926365338175055478128640000000000000000000000000000000000000000000000000000000000000000000000000000000000000000000000000000000000000000000000000000)"
   ]
  },
  {
   "cell_type": "code",
   "execution_count": 2,
   "metadata": {},
   "outputs": [
    {
     "name": "stdout",
     "output_type": "stream",
     "text": [
      "166 ns ± 0.928 ns per loop (mean ± std. dev. of 7 runs, 10000000 loops each)\n"
     ]
    }
   ],
   "source": [
    "%%timeit\n",
    "x = 7258275885487458732957087507150127598070582710983572901870529089580529750165716975618975916754619764751597\n",
    "y = x*x"
   ]
  },
  {
   "cell_type": "code",
   "execution_count": 3,
   "metadata": {},
   "outputs": [
    {
     "name": "stdout",
     "output_type": "stream",
     "text": [
      "379 ns ± 5.88 ns per loop (mean ± std. dev. of 7 runs, 1000000 loops each)\n"
     ]
    }
   ],
   "source": [
    "%%timeit\n",
    "x = 7258275885487458732957087507150127598070582710983572901870529089580529750165716975618975916754619764751597\n",
    "y = x**2"
   ]
  },
  {
   "cell_type": "code",
   "execution_count": 4,
   "metadata": {
    "collapsed": true
   },
   "outputs": [],
   "source": [
    "def is_square(apositiveint):\n",
    "  x = apositiveint // 2\n",
    "  seen = {x}\n",
    "  while x * x != apositiveint:\n",
    "    x = (x + (apositiveint // x)) // 2\n",
    "    if x in seen: return False\n",
    "    seen.add(x)\n",
    "  return True\n"
   ]
  },
  {
   "cell_type": "code",
   "execution_count": 6,
   "metadata": {},
   "outputs": [
    {
     "data": {
      "text/plain": [
       "True"
      ]
     },
     "execution_count": 6,
     "metadata": {},
     "output_type": "execute_result"
    }
   ],
   "source": [
    "is_square(7258275885487458732957087507150127598070582710983572901870529089580529750165716975618975916754619764751597*7258275885487458732957087507150127598070582710983572901870529089580529750165716975618975916754619764751597)\n"
   ]
  },
  {
   "cell_type": "code",
   "execution_count": null,
   "metadata": {
    "collapsed": true
   },
   "outputs": [],
   "source": []
  }
 ],
 "metadata": {
  "kernelspec": {
   "display_name": "Python 3",
   "language": "python",
   "name": "python3"
  },
  "language_info": {
   "codemirror_mode": {
    "name": "ipython",
    "version": 3
   },
   "file_extension": ".py",
   "mimetype": "text/x-python",
   "name": "python",
   "nbconvert_exporter": "python",
   "pygments_lexer": "ipython3",
   "version": "3.6.3"
  }
 },
 "nbformat": 4,
 "nbformat_minor": 1
}
