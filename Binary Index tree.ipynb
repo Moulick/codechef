{
 "cells": [
  {
   "cell_type": "code",
   "execution_count": 9,
   "metadata": {},
   "outputs": [],
   "source": [
    "class BITree(object):\n",
    "    \"\"\"\n",
    "    this class makes Binary Index tree out of given object\n",
    "    Complexity to update or get sum - O(log(n))\n",
    "    \"\"\"\n",
    "    def __init__(self, nums):\n",
    "        self.n = len(nums)\n",
    "        self.a, self.c = nums, [0] * (self.n + 1)\n",
    "        for i in range(self.n):\n",
    "            k = i + 1\n",
    "            while k <= self.n:\n",
    "                self.c[k] += nums[i]\n",
    "                k += (k & -k)\n",
    "\n",
    "    def update(self, i, val):\n",
    "        \"\"\"\n",
    "        Updates the \n",
    "        :param i: the index to update in original list \n",
    "        :param val: new value at index i\n",
    "        :return: None\n",
    "        \"\"\"\n",
    "        diff, self.a[i] = val - self.a[i], val\n",
    "        i += 1\n",
    "        while i <= self.n:\n",
    "            self.c[i] += diff\n",
    "            i += (i & -i)\n",
    "\n",
    "    def sum_range(self, i, j):\n",
    "        \"\"\"\n",
    "        Given sum of list from i to j both including\n",
    "        :param i: lower index\n",
    "        :param j: upper index\n",
    "        :return: float or int\n",
    "        \"\"\"\n",
    "        res, j = 0, j + 1\n",
    "        while j:\n",
    "            res += self.c[j]\n",
    "            j -= (j & -j)\n",
    "        while i:\n",
    "            res -= self.c[i]\n",
    "            i -= (i & -i)\n",
    "        return res"
   ]
  },
  {
   "cell_type": "code",
   "execution_count": 10,
   "metadata": {},
   "outputs": [],
   "source": [
    "arr = [1, 2, 3, 4]\n",
    "x = BITree(arr)"
   ]
  },
  {
   "cell_type": "code",
   "execution_count": 11,
   "metadata": {
    "collapsed": true
   },
   "outputs": [
    {
     "data": {
      "text/plain": [
       "[1, 2, 3, 4]"
      ]
     },
     "execution_count": 11,
     "metadata": {},
     "output_type": "execute_result"
    }
   ],
   "source": [
    "x.a"
   ]
  },
  {
   "cell_type": "code",
   "execution_count": 12,
   "metadata": {},
   "outputs": [
    {
     "data": {
      "text/plain": [
       "[0, 1, 3, 3, 10]"
      ]
     },
     "execution_count": 12,
     "metadata": {},
     "output_type": "execute_result"
    }
   ],
   "source": [
    "x.c"
   ]
  },
  {
   "cell_type": "code",
   "execution_count": 13,
   "metadata": {},
   "outputs": [
    {
     "data": {
      "text/plain": [
       "6"
      ]
     },
     "execution_count": 13,
     "metadata": {},
     "output_type": "execute_result"
    }
   ],
   "source": [
    "x.sum_range(0, 2)"
   ]
  }
 ],
 "metadata": {
  "kernelspec": {
   "display_name": "Python 3",
   "language": "python",
   "name": "python3"
  },
  "language_info": {
   "codemirror_mode": {
    "name": "ipython",
    "version": 3
   },
   "file_extension": ".py",
   "mimetype": "text/x-python",
   "name": "python",
   "nbconvert_exporter": "python",
   "pygments_lexer": "ipython3",
   "version": "3.6.5"
  }
 },
 "nbformat": 4,
 "nbformat_minor": 2
}
