{
 "cells": [
  {
   "cell_type": "code",
   "execution_count": 1,
   "metadata": {},
   "outputs": [],
   "source": [
    "import random"
   ]
  },
  {
   "cell_type": "code",
   "execution_count": 23,
   "metadata": {},
   "outputs": [
    {
     "name": "stdout",
     "output_type": "stream",
     "text": [
      "100000\n",
      "400001\n"
     ]
    }
   ],
   "source": [
    "# arr2 = [-1,3,4,0,2,1]\n",
    "arr2 = [random.randint(0,10**9) for _ in range(10**5) ]\n",
    "print(len(arr2))\n",
    "seg = [0] * (4*len(arr2)+1)\n",
    "print(len(seg))\n"
   ]
  },
  {
   "cell_type": "code",
   "execution_count": 24,
   "metadata": {},
   "outputs": [],
   "source": [
    "def construct(array, seg, low, high, pos):\n",
    "    # print(\"pos: \" + str(pos))\n",
    "    if low==high:\n",
    "        t = array[low]\n",
    "        seg[pos] = t\n",
    "        return\n",
    "    mid = int((low + high)/2)\n",
    "    construct(array, seg, low, mid, (2*pos +1))\n",
    "    construct(array, seg, mid+1, high, (2*pos +2))\n",
    "    seg[pos] = max(seg[2*pos +1], seg[2*pos +2])\n",
    "    \n",
    "construct(arr2, seg, 0, (len(arr2)-1), 0)"
   ]
  },
  {
   "cell_type": "code",
   "execution_count": 25,
   "metadata": {},
   "outputs": [],
   "source": [
    "construct(arr2, seg, 0, (len(arr2)-1), 0)"
   ]
  },
  {
   "cell_type": "code",
   "execution_count": 29,
   "metadata": {
    "scrolled": false
   },
   "outputs": [],
   "source": [
    "# print(seg)\n",
    "int_min = -9223372036854775807"
   ]
  },
  {
   "cell_type": "code",
   "execution_count": 30,
   "metadata": {},
   "outputs": [],
   "source": [
    "def query(seg, qlow, qhigh, low=0, high=(len(arr2)-1), pos=0):\n",
    "    if (qlow <= low and qhigh >= high):\n",
    "        return seg[pos]\n",
    "    elif (qlow> high or qhigh<low):\n",
    "        return int_min\n",
    "    mid = int((low+high)/2)\n",
    "    return max(query(seg, qlow, qhigh, low, mid, (2*pos+1)), query(seg, qlow, qhigh, (mid+1), high, (2*pos+2)))"
   ]
  },
  {
   "cell_type": "code",
   "execution_count": 38,
   "metadata": {},
   "outputs": [
    {
     "data": {
      "text/plain": [
       "999985635"
      ]
     },
     "execution_count": 38,
     "metadata": {},
     "output_type": "execute_result"
    }
   ],
   "source": [
    "\n",
    "query(seg, qlow=0, qhigh=len(arr2)-1)"
   ]
  },
  {
   "cell_type": "code",
   "execution_count": 37,
   "metadata": {},
   "outputs": [
    {
     "data": {
      "text/plain": [
       "999985635"
      ]
     },
     "execution_count": 37,
     "metadata": {},
     "output_type": "execute_result"
    }
   ],
   "source": [
    "max(arr2)"
   ]
  },
  {
   "cell_type": "code",
   "execution_count": null,
   "metadata": {},
   "outputs": [],
   "source": [
    "class SegTree:\n",
    "    def __init__(self, nums):\n",
    "        self.nums = nums\n",
    "        self.n = len(nums)\n",
    "        self.tree = [0]*(4*self.n + 1)\n",
    "        \n",
    "    def __construct__(self.nums, self.tree, 0, self.n-1, 0):\n",
    "        "
   ]
  }
 ],
 "metadata": {
  "kernelspec": {
   "display_name": "Python 3",
   "language": "python",
   "name": "python3"
  },
  "language_info": {
   "codemirror_mode": {
    "name": "ipython",
    "version": 3
   },
   "file_extension": ".py",
   "mimetype": "text/x-python",
   "name": "python",
   "nbconvert_exporter": "python",
   "pygments_lexer": "ipython3",
   "version": "3.6.5"
  }
 },
 "nbformat": 4,
 "nbformat_minor": 2
}
