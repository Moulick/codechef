{
 "cells": [
  {
   "cell_type": "code",
   "execution_count": 1,
   "metadata": {},
   "outputs": [],
   "source": [
    "import math"
   ]
  },
  {
   "cell_type": "code",
   "execution_count": 2,
   "metadata": {},
   "outputs": [
    {
     "name": "stdout",
     "output_type": "stream",
     "text": [
      "3\n",
      "1 2 3\n",
      "3 0 1\n"
     ]
    }
   ],
   "source": [
    "n = int(input())\n",
    "a = list(map(int, input().split()))\n",
    "m , x , y = map(int, input().split())\n"
   ]
  },
  {
   "cell_type": "code",
   "execution_count": 3,
   "metadata": {},
   "outputs": [],
   "source": [
    "log = int( math.ceil( math.log( n ) / math.log( 2 ) ) )"
   ]
  },
  {
   "cell_type": "code",
   "execution_count": 4,
   "metadata": {},
   "outputs": [],
   "source": [
    "sparse = [[-1 for i in range(log+1)] for j in range(n)]\n"
   ]
  },
  {
   "cell_type": "code",
   "execution_count": 5,
   "metadata": {},
   "outputs": [],
   "source": [
    "for i in range(n):\n",
    "    sparse[i][0] = i\n"
   ]
  },
  {
   "cell_type": "code",
   "execution_count": 7,
   "metadata": {},
   "outputs": [],
   "source": [
    "for i in range( 1 , log + 1 ):\n",
    "    j = 0\n",
    "    while j + ( 1 << (i-1) ) < n :\n",
    " \n",
    "        if a[sparse[j][i-1]] > a[sparse[j + (1 << (i-1))][i-1]]:\n",
    "            sparse[j][i] = sparse[j][i - 1]\n",
    "        else:\n",
    "            sparse[j][i] = sparse[j + (1 << (i-1))][i-1 ]\n",
    "        j += 1\n"
   ]
  },
  {
   "cell_type": "code",
   "execution_count": 8,
   "metadata": {},
   "outputs": [],
   "source": [
    "ans = 0"
   ]
  },
  {
   "cell_type": "code",
   "execution_count": 9,
   "metadata": {},
   "outputs": [
    {
     "name": "stdout",
     "output_type": "stream",
     "text": [
      "7\n"
     ]
    }
   ],
   "source": [
    "for i in range(m):\n",
    "    log = int(math.floor(math.log((abs(x - y) + 1)) / math.log(2)))\n",
    "    mx, mn = max(x, y), min(x, y)\n",
    "    ans += max(a[sparse[mn][log]], a[sparse[mx - (2 ** log) + 1][log]])\n",
    "    x += 7\n",
    "    x %= (n - 1)\n",
    "    y += 11\n",
    "    y %= (n)\n",
    "\n",
    "print(ans)\n",
    "\n"
   ]
  },
  {
   "cell_type": "code",
   "execution_count": null,
   "metadata": {},
   "outputs": [],
   "source": []
  }
 ],
 "metadata": {
  "kernelspec": {
   "display_name": "Python 3",
   "language": "python",
   "name": "python3"
  },
  "language_info": {
   "codemirror_mode": {
    "name": "ipython",
    "version": 3
   },
   "file_extension": ".py",
   "mimetype": "text/x-python",
   "name": "python",
   "nbconvert_exporter": "python",
   "pygments_lexer": "ipython3",
   "version": "3.6.5"
  }
 },
 "nbformat": 4,
 "nbformat_minor": 2
}
